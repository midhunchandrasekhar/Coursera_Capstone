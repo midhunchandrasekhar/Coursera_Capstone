{
    "cells": [
        {
            "metadata": {
                "collapsed": true
            },
            "cell_type": "markdown",
            "source": "# The Battle of Neighborhoods - Data Description"
        },
        {
            "metadata": {},
            "cell_type": "markdown",
            "source": "<br>\n<h2>Data Scraping</h2>\n<br>\n<p>\nIn order to achieve the objective of our project, we need to collect information related to Toronto. The information related to postal codes is available in Wikipedia. We need to do scrapping and preprocessing to extract the necessary information.\n</p>\n\n<ul>\n    <li><b>Wikipedia url</b> :  https://en.wikipedia.org/wiki/List_of_postal_codes_of_Canada:_M </li>\n</ul>"
        },
        {
            "metadata": {},
            "cell_type": "markdown",
            "source": "<br>\n<h2>Geocoder</h2>\n<br>\n<p>Once the postal data is obtained, next we need to collect the geographical coordinate of each location. This can be done with help of the Geocoder.  Attach this information with the already collected data.\n</p>"
        },
        {
            "metadata": {},
            "cell_type": "markdown",
            "source": "<br>\n<h2>Foursquare</h2>\n<br>\n<p>\n    We'll require information on various venues throughout that borough's various neighbourhoods. \n    We'll use \"Foursquare\" locational information to get that information. Foursquare is a location \n    data provider that provides information about a variety of locations and activities in a given area.\n    Names of venues, their locations, menus, and even images are examples of this type of information. \n    As a result, the foursquare location platform will serve as the single data source, as the API provides \n    access to all of the essential data.\n</p>\n\n<p>\n    We next connect to the Foursquare API to obtain information about venues inside each neighbourhood \n    after finding the list of neighbourhoods. The radius for each neighbourhood has been set at 100 metres.\n    The Foursquare data comprised information on venues within a certain distance of the postcodes' \n    longitude and latitude. The following is the information received for each venue:\n</p>\n\n<ul>\n    <li>Neighborhood</li>\n    <li>Neighborhood Latitude</li>\n    <li>Neighborhood Longitude</li>\n    <li>Venue</li>\n    <li>Name of the venue e.g. the name of a store or restaurant</li>\n    <li>Venue Latitude</li>\n    <li>Venue Longitude</li>\n    <li>Venue Category</li>\n</ul>"
        }
    ],
    "metadata": {
        "kernelspec": {
            "name": "python3",
            "display_name": "Python 3.7",
            "language": "python"
        },
        "language_info": {
            "name": "python",
            "version": "3.7.10",
            "mimetype": "text/x-python",
            "codemirror_mode": {
                "name": "ipython",
                "version": 3
            },
            "pygments_lexer": "ipython3",
            "nbconvert_exporter": "python",
            "file_extension": ".py"
        }
    },
    "nbformat": 4,
    "nbformat_minor": 1
}