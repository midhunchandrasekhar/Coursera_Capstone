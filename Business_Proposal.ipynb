{
    "cells": [
        {
            "metadata": {
                "collapsed": true
            },
            "cell_type": "markdown",
            "source": "# The Battle of Neighborhoods - Business Proposal"
        },
        {
            "metadata": {},
            "cell_type": "markdown",
            "source": "<br>\n<h2>Table of Content</h2>\n<br>\n<table style=\"float:left\">\n  <tr>\n      <th><b>SN</b></th>\n      <th><b>Title</b></th>\n  </tr>\n  <tr>\n    <td>1</td>\n    <td>Introduction</td>\n  </tr>\n    <tr>\n    <td>2</td>\n    <td>Objective</td>\n  </tr>\n    <tr>\n    <td>3</td>\n    <td>Location</td>\n  </tr>\n    <tr>\n    <td>4</td>\n    <td>Foursquare</td>\n  </tr>\n    <tr>\n    <td>5</td>\n    <td>Work Flow</td>\n  </tr>\n    <tr>\n    <td>6</td>\n    <td>Clustering</td>\n  </tr>\n    <tr>\n    <td>7</td>\n    <td>Required libraries</td>\n  </tr>\n    \n</table>"
        },
        {
            "metadata": {},
            "cell_type": "markdown",
            "source": "<br>\n<h2>Introduction</h2>\n<br>\n<p>\n    The goal of this project is to assist people in discovering better amenities in their area. It will assist individuals in making informed and efficient decisions on which great neighbourhood to choose from among the many in North York, Toronto. Many individuals are travelling to different parts of Canada, and they need to do a lot of research to find affordable housing and reputable schools for their children. This project is for folks who want to live in a more desirable neighbourhood. For easy access to cafes, schools, supermarkets, medical and food stores, malls, theatres, hospitals, and like-minded people, among other things.\n</p>\n\n<p>\n    This project aims to produce a feature analysis for people migrating to North York in order to find the best area by comparing communities. The elements include median house prices and better schools according to ratings, local crime rates, road connectivity, weather conditions, good emergency management, fresh and waste water supplies, excrement carried through sewers, and recreational amenities. It will assist people in being familiar with the area and neighbourhood before to migrating to a new city, state, nation, or location for job or to begin a new life.\n</p>"
        },
        {
            "metadata": {},
            "cell_type": "markdown",
            "source": "<br>\n<h2>Objective</h2>\n<br>\n<p>\n    The main goal of this project is to recommend a better neighbourhood in a new city to people who are new to the area. In terms of like-minded people, there is a social presence in society. Access to the airport, bus station, city centre, markets, and other necessities in the area.\n</p>\n\n<ul>\n  <li>Sorted list of houses in ascending or descending order by housing prices</li>\n  <li>Sorted list of schools in terms of location, fees, rating and reviews</li>\n</ul>"
        },
        {
            "metadata": {},
            "cell_type": "markdown",
            "source": "<br>\n<h2>Location</h2>\n<br>\n<p>\n    North York is one of the six administrative districts of Toronto, Ontario, Canada. \n    It is located directly north of York, Old Toronto and East York, between Etobicoke to the west and Scarborough to the east.\n    North York is a popular place for new immigrants to settle in Canada. As a result, it is one of Toronto's \n    most varied and ethnic neighbourhoods, with a wide range of religious groups and places of worship.\n</p>\n\n<p>\n    Despite the fact that immigration has become a contentious topic in recent years, \n    with more governments demanding tighter limits on immigrants and refugees, \n    Canada's overall immigration pattern has been one of growth.\n</p>"
        },
        {
            "metadata": {},
            "cell_type": "markdown",
            "source": "<br>\n<h2>Foursquar</h2>\n<br>\n<p>\n    This project would use the Four-square API as its primary data source because it contains a database of millions of locations, \n    particularly their places API, which allows users to search for, share, and learn about businesses.\n\n<p>"
        },
        {
            "metadata": {},
            "cell_type": "markdown",
            "source": "<br>\n<h2>Work Flow</h2>\n<br>\n<p>\n    The attributes of nearby places in neighbourhoods would be mined using credentials from the Foursquare API. \n    The number of places per neighbourhood parameter should be set to 100, and the radius parameter should be set to 500, \n    due to http request limits.\n</p>"
        },
        {
            "metadata": {},
            "cell_type": "markdown",
            "source": "<br>\n<h2>Clustering</h2>\n<br>\n<p>\n    To examine the similarities of two cities, we opted to look for similar neighbourhoods in big cities like New York and Toronto \n    by exploring neighbourhoods, segmenting them, and grouping them into clusters. \n    To do so, we'll need to cluster data, which is an unsupervised machine learning technique: Clustering algorithm based on k-means\n</p>"
        },
        {
            "metadata": {},
            "cell_type": "markdown",
            "source": "<br>\n<h2>Required libraries</h2>\n<br>\n<ul>\n  <li><b>Pandas</b>: For creating and manipulating dataframes.</li>\n  <li><b>Folium</b>: Python visualization library would be used to visualize the neighborhoods cluster distribution of using interactive leaflet map.</li>\n  <li><b>Scikit Learn</b>: For importing k-means clustering.</li>  \n  <li><b>JSON</b>: Library to handle JSON files.</li>\n  <li><b>XML</b>: To separate data from presentation and XML stores data in plain text format.</li>\n  <li><b>Geocoder</b>: To retrieve Location Data.</li>\n  <li><b>Beautiful Soup and Requests</b>: To scrap and library to handle http requests.</li>\n  <li><b>Matplotlib</b>: Python Plotting Module.</li>\n</ul>"
        }
    ],
    "metadata": {
        "kernelspec": {
            "name": "python3",
            "display_name": "Python 3.7",
            "language": "python"
        },
        "language_info": {
            "name": "python",
            "version": "3.7.10",
            "mimetype": "text/x-python",
            "codemirror_mode": {
                "name": "ipython",
                "version": 3
            },
            "pygments_lexer": "ipython3",
            "nbconvert_exporter": "python",
            "file_extension": ".py"
        }
    },
    "nbformat": 4,
    "nbformat_minor": 1
}